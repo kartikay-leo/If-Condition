{
 "cells": [
  {
   "cell_type": "code",
   "execution_count": 1,
   "metadata": {},
   "outputs": [
    {
     "name": "stdout",
     "output_type": "stream",
     "text": [
      "Enter the 1st Number: 5\n",
      "Enter the 2nd Number: 9\n",
      "9 is greatest\n"
     ]
    }
   ],
   "source": [
    "## Find the Greatest Number\n",
    "\n",
    "x=input('Enter the 1st Number: ')\n",
    "y=input('Enter the 2nd Number: ')\n",
    "if x>y:\n",
    "    print(x+' is greatest')\n",
    "else:\n",
    "    print(y+' is greatest')"
   ]
  },
  {
   "cell_type": "code",
   "execution_count": 2,
   "metadata": {},
   "outputs": [
    {
     "name": "stdout",
     "output_type": "stream",
     "text": [
      "Enter the 1st Number: 8\n",
      "Enter the 2nd Number: 1\n",
      "1 is the smallest number\n"
     ]
    }
   ],
   "source": [
    "## Find the smallest Number\n",
    "\n",
    "x=input('Enter the 1st Number: ')\n",
    "y=input('Enter the 2nd Number: ')\n",
    "if x>y:\n",
    "    print(y+' is the smallest number')\n",
    "else:\n",
    "    print(x+' is the smallest number')"
   ]
  },
  {
   "cell_type": "code",
   "execution_count": 3,
   "metadata": {},
   "outputs": [
    {
     "name": "stdout",
     "output_type": "stream",
     "text": [
      "Enter the 1st Number: 2\n",
      "Enter the 2nd Number: 7\n",
      "Enter the 3rd Number: 0\n",
      "0 is the smallest number\n"
     ]
    }
   ],
   "source": [
    "## Find the smallest of three numbers\n",
    "\n",
    "x=input('Enter the 1st Number: ')\n",
    "y=input('Enter the 2nd Number: ')\n",
    "z=input('Enter the 3rd Number: ')\n",
    "\n",
    "if x>z and y>z:\n",
    "    print(z+ ' is the smallest number')\n",
    "elif x>y and z>y:\n",
    "    print(y + ' is the smallest number')\n",
    "else:\n",
    "    print(x+ ' is the smallest number')"
   ]
  },
  {
   "cell_type": "code",
   "execution_count": 4,
   "metadata": {},
   "outputs": [
    {
     "name": "stdout",
     "output_type": "stream",
     "text": [
      "Enter the Number: 1\n",
      "Entered number is ODD\n"
     ]
    }
   ],
   "source": [
    "## Check if the number is odd or even\n",
    "\n",
    "x=int(input('Enter the Number: '))\n",
    "if x%2==0:\n",
    "    print('Entered number is EVEN')\n",
    "else:\n",
    "    print(\"Entered number is ODD\")\n"
   ]
  },
  {
   "cell_type": "code",
   "execution_count": 5,
   "metadata": {},
   "outputs": [
    {
     "name": "stdout",
     "output_type": "stream",
     "text": [
      "Enter the Number: -3\n",
      "Negative number entered\n"
     ]
    }
   ],
   "source": [
    "## Check if the number is negative,positive or zero\n",
    "\n",
    "x=int(input('Enter the Number: '))\n",
    "if x>0:\n",
    "    print('Positive number entered')\n",
    "elif x==0:\n",
    "    print('Zero number entered')\n",
    "else:\n",
    "    print('Negative number entered')"
   ]
  },
  {
   "cell_type": "code",
   "execution_count": 6,
   "metadata": {},
   "outputs": [
    {
     "name": "stdout",
     "output_type": "stream",
     "text": [
      "Enter the Donor Blood Group: o+\n",
      "Enter the Recipient Blood Group: o-\n",
      "Blood group does not match\n"
     ]
    }
   ],
   "source": [
    "## Check if the bloodgropu of the donor matches that of recipient\n",
    "\n",
    "x=input('Enter the Donor Blood Group: ')\n",
    "y=input('Enter the Recipient Blood Group: ')\n",
    "if x==y:\n",
    "    print(\"Blood Groups Match\")\n",
    "else:\n",
    "    print('Blood group does not match')"
   ]
  },
  {
   "cell_type": "code",
   "execution_count": null,
   "metadata": {},
   "outputs": [],
   "source": []
  }
 ],
 "metadata": {
  "kernelspec": {
   "display_name": "Python 3",
   "language": "python",
   "name": "python3"
  },
  "language_info": {
   "codemirror_mode": {
    "name": "ipython",
    "version": 3
   },
   "file_extension": ".py",
   "mimetype": "text/x-python",
   "name": "python",
   "nbconvert_exporter": "python",
   "pygments_lexer": "ipython3",
   "version": "3.7.6"
  }
 },
 "nbformat": 4,
 "nbformat_minor": 4
}
